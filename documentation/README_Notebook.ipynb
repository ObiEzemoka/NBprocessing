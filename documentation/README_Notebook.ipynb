{
 "cells": [
  {
   "cell_type": "markdown",
   "metadata": {},
   "source": [
    "# NBprocessing Package - Showcase"
   ]
  },
  {
   "cell_type": "markdown",
   "metadata": {},
   "source": [
    "This notebook will present a showcase of all methods under the NBprocessing Package.\\\n",
    "It will use a simple database called `dataset_cars` - you can explore the database in the documentation folder\n",
    "\n",
    "Created By: Nir Barazida\\\n",
    "Good luck"
   ]
  },
  {
   "cell_type": "markdown",
   "metadata": {},
   "source": [
    "!pip install NBprocessing==0.0.192"
   ]
  },
  {
   "cell_type": "raw",
   "metadata": {},
   "source": [
    "!pip install NBprocessing"
   ]
  },
  {
   "cell_type": "code",
   "execution_count": 1,
   "metadata": {},
   "outputs": [],
   "source": [
    "from NBprocessing import NBcategorical\n",
    "from NBprocessing import NBcontinuous\n",
    "from NBprocessing import NBplot\n",
    "from NBprocessing import NBgeneral\n",
    "\n",
    "import matplotlib.pyplot as plt\n",
    "import seaborn as sns\n",
    "import pandas as pd\n",
    "import numpy as np\n",
    "from sklearn.model_selection import train_test_split\n",
    "from sklearn.preprocessing import MinMaxScaler\n",
    "from sklearn.preprocessing import StandardScaler\n",
    "from sklearn.preprocessing import FunctionTransformer\n",
    "\n",
    "%matplotlib inline"
   ]
  },
  {
   "cell_type": "markdown",
   "metadata": {},
   "source": [
    "## Data Dictionary\n",
    "\n",
    "**name**: Name of the cars\n",
    "\n",
    "**year**: Year of the car when it was bought\n",
    "\n",
    "**selling_price**: Price at which the car is being sold\n",
    "\n",
    "**km_driven**: Number of Kilometres the car is driven\n",
    "\n",
    "**fuel**: Fuel type of car (petrol / diesel / CNG / LPG / electric)\n",
    "\n",
    "**seller_type**: Tells if a Seller is Individual or a Dealer\n",
    "\n",
    "**transmission**: Gear transmission of the car (Automatic/Manual)\n",
    "\n",
    "**owner**: Number of previous owners of the car."
   ]
  },
  {
   "cell_type": "code",
   "execution_count": 2,
   "metadata": {
    "scrolled": true
   },
   "outputs": [
    {
     "data": {
      "text/html": [
       "<div>\n",
       "<style scoped>\n",
       "    .dataframe tbody tr th:only-of-type {\n",
       "        vertical-align: middle;\n",
       "    }\n",
       "\n",
       "    .dataframe tbody tr th {\n",
       "        vertical-align: top;\n",
       "    }\n",
       "\n",
       "    .dataframe thead th {\n",
       "        text-align: right;\n",
       "    }\n",
       "</style>\n",
       "<table border=\"1\" class=\"dataframe\">\n",
       "  <thead>\n",
       "    <tr style=\"text-align: right;\">\n",
       "      <th></th>\n",
       "      <th>name</th>\n",
       "      <th>year</th>\n",
       "      <th>selling_price</th>\n",
       "      <th>km_driven</th>\n",
       "      <th>fuel</th>\n",
       "      <th>seller_type</th>\n",
       "      <th>transmission</th>\n",
       "      <th>owner</th>\n",
       "    </tr>\n",
       "  </thead>\n",
       "  <tbody>\n",
       "    <tr>\n",
       "      <th>6</th>\n",
       "      <td>Hyundai Xcent 1.2 Kappa S</td>\n",
       "      <td>2016</td>\n",
       "      <td>550000.0</td>\n",
       "      <td>25000.0</td>\n",
       "      <td>Petrol</td>\n",
       "      <td>Individual</td>\n",
       "      <td>Manual</td>\n",
       "      <td>First Owner</td>\n",
       "    </tr>\n",
       "    <tr>\n",
       "      <th>614</th>\n",
       "      <td>Maruti SX4 Vxi BSIV</td>\n",
       "      <td>2012</td>\n",
       "      <td>225000.0</td>\n",
       "      <td>110000.0</td>\n",
       "      <td>Petrol</td>\n",
       "      <td>Individual</td>\n",
       "      <td>Manual</td>\n",
       "      <td>Second Owner</td>\n",
       "    </tr>\n",
       "    <tr>\n",
       "      <th>811</th>\n",
       "      <td>Toyota Innova 2.5 G4 Diesel 8-seater</td>\n",
       "      <td>2007</td>\n",
       "      <td>250000.0</td>\n",
       "      <td>80000.0</td>\n",
       "      <td>Diesel</td>\n",
       "      <td>Individual</td>\n",
       "      <td>Manual</td>\n",
       "      <td>Second Owner</td>\n",
       "    </tr>\n",
       "    <tr>\n",
       "      <th>976</th>\n",
       "      <td>Mahindra Thar CRDe</td>\n",
       "      <td>2018</td>\n",
       "      <td>950000.0</td>\n",
       "      <td>20000.0</td>\n",
       "      <td>Diesel</td>\n",
       "      <td>Individual</td>\n",
       "      <td>Manual</td>\n",
       "      <td>First Owner</td>\n",
       "    </tr>\n",
       "    <tr>\n",
       "      <th>2044</th>\n",
       "      <td>Mercedes-Benz E-Class 230</td>\n",
       "      <td>1998</td>\n",
       "      <td>1000000.0</td>\n",
       "      <td>35000.0</td>\n",
       "      <td>Petrol</td>\n",
       "      <td>Individual</td>\n",
       "      <td>Automatic</td>\n",
       "      <td>Second Owner</td>\n",
       "    </tr>\n",
       "  </tbody>\n",
       "</table>\n",
       "</div>"
      ],
      "text/plain": [
       "                                      name  year  selling_price  km_driven  \\\n",
       "6                Hyundai Xcent 1.2 Kappa S  2016       550000.0    25000.0   \n",
       "614                    Maruti SX4 Vxi BSIV  2012       225000.0   110000.0   \n",
       "811   Toyota Innova 2.5 G4 Diesel 8-seater  2007       250000.0    80000.0   \n",
       "976                     Mahindra Thar CRDe  2018       950000.0    20000.0   \n",
       "2044             Mercedes-Benz E-Class 230  1998      1000000.0    35000.0   \n",
       "\n",
       "        fuel seller_type transmission         owner  \n",
       "6     Petrol  Individual       Manual   First Owner  \n",
       "614   Petrol  Individual       Manual  Second Owner  \n",
       "811   Diesel  Individual       Manual  Second Owner  \n",
       "976   Diesel  Individual       Manual   First Owner  \n",
       "2044  Petrol  Individual    Automatic  Second Owner  "
      ]
     },
     "execution_count": 2,
     "metadata": {},
     "output_type": "execute_result"
    }
   ],
   "source": [
    "data = pd.read_csv('dataset_cars.csv')\n",
    "data.sample(5)"
   ]
  },
  {
   "cell_type": "code",
   "execution_count": 3,
   "metadata": {},
   "outputs": [
    {
     "data": {
      "text/html": [
       "<div>\n",
       "<style scoped>\n",
       "    .dataframe tbody tr th:only-of-type {\n",
       "        vertical-align: middle;\n",
       "    }\n",
       "\n",
       "    .dataframe tbody tr th {\n",
       "        vertical-align: top;\n",
       "    }\n",
       "\n",
       "    .dataframe thead th {\n",
       "        text-align: right;\n",
       "    }\n",
       "</style>\n",
       "<table border=\"1\" class=\"dataframe\">\n",
       "  <thead>\n",
       "    <tr style=\"text-align: right;\">\n",
       "      <th></th>\n",
       "      <th>#Missing_values</th>\n",
       "      <th>%Missing_values</th>\n",
       "    </tr>\n",
       "  </thead>\n",
       "  <tbody>\n",
       "    <tr>\n",
       "      <th>seller_type</th>\n",
       "      <td>314</td>\n",
       "      <td>7.2</td>\n",
       "    </tr>\n",
       "    <tr>\n",
       "      <th>fuel</th>\n",
       "      <td>158</td>\n",
       "      <td>3.6</td>\n",
       "    </tr>\n",
       "    <tr>\n",
       "      <th>selling_price</th>\n",
       "      <td>136</td>\n",
       "      <td>3.1</td>\n",
       "    </tr>\n",
       "    <tr>\n",
       "      <th>km_driven</th>\n",
       "      <td>113</td>\n",
       "      <td>2.6</td>\n",
       "    </tr>\n",
       "    <tr>\n",
       "      <th>transmission</th>\n",
       "      <td>78</td>\n",
       "      <td>1.8</td>\n",
       "    </tr>\n",
       "  </tbody>\n",
       "</table>\n",
       "</div>"
      ],
      "text/plain": [
       "               #Missing_values  %Missing_values\n",
       "seller_type                314              7.2\n",
       "fuel                       158              3.6\n",
       "selling_price              136              3.1\n",
       "km_driven                  113              2.6\n",
       "transmission                78              1.8"
      ]
     },
     "execution_count": 3,
     "metadata": {},
     "output_type": "execute_result"
    }
   ],
   "source": [
    "NBgeneral.missing_values(data)"
   ]
  },
  {
   "cell_type": "code",
   "execution_count": 4,
   "metadata": {},
   "outputs": [
    {
     "data": {
      "image/png": "[encoded data removed]",
      "text/plain": [
       "<Figure size 864x360 with 1 Axes>"
      ]
     },
     "metadata": {},
     "output_type": "display_data"
    }
   ],
   "source": [
    "NBplot.plot_missing_value_heatmap(data)"
   ]
  },
  {
   "cell_type": "markdown",
   "metadata": {},
   "source": [
    "As we can see - almost all columns are full and don't contain missing values.\\\n",
    "However the features `seller_type` is missing a lot of data - almost 10%.\\\n",
    "The rest of the features that are missing data have a low-med amount of missing data.\\\n",
    "However, I will want to check if NaN is maybe marked as `Nane` / `NA` etc, I will do that with value counts **later on** in the missing value section."
   ]
  },
  {
   "cell_type": "code",
   "execution_count": 5,
   "metadata": {},
   "outputs": [
    {
     "data": {
      "text/plain": [
       "(4340, 8)"
      ]
     },
     "execution_count": 5,
     "metadata": {},
     "output_type": "execute_result"
    }
   ],
   "source": [
    "data.shape"
   ]
  },
  {
   "cell_type": "code",
   "execution_count": 6,
   "metadata": {},
   "outputs": [
    {
     "data": {
      "text/html": [
       "<div>\n",
       "<style scoped>\n",
       "    .dataframe tbody tr th:only-of-type {\n",
       "        vertical-align: middle;\n",
       "    }\n",
       "\n",
       "    .dataframe tbody tr th {\n",
       "        vertical-align: top;\n",
       "    }\n",
       "\n",
       "    .dataframe thead th {\n",
       "        text-align: right;\n",
       "    }\n",
       "</style>\n",
       "<table border=\"1\" class=\"dataframe\">\n",
       "  <thead>\n",
       "    <tr style=\"text-align: right;\">\n",
       "      <th></th>\n",
       "      <th>year</th>\n",
       "      <th>selling_price</th>\n",
       "      <th>km_driven</th>\n",
       "    </tr>\n",
       "  </thead>\n",
       "  <tbody>\n",
       "    <tr>\n",
       "      <th>count</th>\n",
       "      <td>4340</td>\n",
       "      <td>4204</td>\n",
       "      <td>4227</td>\n",
       "    </tr>\n",
       "    <tr>\n",
       "      <th>mean</th>\n",
       "      <td>2013.09</td>\n",
       "      <td>507073</td>\n",
       "      <td>66224.7</td>\n",
       "    </tr>\n",
       "    <tr>\n",
       "      <th>std</th>\n",
       "      <td>4.21534</td>\n",
       "      <td>581961</td>\n",
       "      <td>46658.1</td>\n",
       "    </tr>\n",
       "    <tr>\n",
       "      <th>min</th>\n",
       "      <td>1992</td>\n",
       "      <td>20000</td>\n",
       "      <td>1</td>\n",
       "    </tr>\n",
       "    <tr>\n",
       "      <th>25%</th>\n",
       "      <td>2011</td>\n",
       "      <td>210000</td>\n",
       "      <td>35000</td>\n",
       "    </tr>\n",
       "    <tr>\n",
       "      <th>50%</th>\n",
       "      <td>2014</td>\n",
       "      <td>360000</td>\n",
       "      <td>60000</td>\n",
       "    </tr>\n",
       "    <tr>\n",
       "      <th>75%</th>\n",
       "      <td>2016</td>\n",
       "      <td>600000</td>\n",
       "      <td>90000</td>\n",
       "    </tr>\n",
       "    <tr>\n",
       "      <th>max</th>\n",
       "      <td>2020</td>\n",
       "      <td>8.9e+06</td>\n",
       "      <td>806599</td>\n",
       "    </tr>\n",
       "  </tbody>\n",
       "</table>\n",
       "</div>"
      ],
      "text/plain": [
       "          year selling_price km_driven\n",
       "count     4340          4204      4227\n",
       "mean   2013.09        507073   66224.7\n",
       "std    4.21534        581961   46658.1\n",
       "min       1992         20000         1\n",
       "25%       2011        210000     35000\n",
       "50%       2014        360000     60000\n",
       "75%       2016        600000     90000\n",
       "max       2020       8.9e+06    806599"
      ]
     },
     "execution_count": 6,
     "metadata": {},
     "output_type": "execute_result"
    }
   ],
   "source": [
    "# aplay \"format changer\" of the describe features for readability\n",
    "data.describe().apply(lambda s: s.apply(lambda x: format(x, 'g')))"
   ]
  },
  {
   "cell_type": "code",
   "execution_count": 7,
   "metadata": {},
   "outputs": [
    {
     "name": "stdout",
     "output_type": "stream",
     "text": [
      "<class 'pandas.core.frame.DataFrame'>\n",
      "RangeIndex: 4340 entries, 0 to 4339\n",
      "Data columns (total 8 columns):\n",
      " #   Column         Non-Null Count  Dtype  \n",
      "---  ------         --------------  -----  \n",
      " 0   name           4340 non-null   object \n",
      " 1   year           4340 non-null   int64  \n",
      " 2   selling_price  4204 non-null   float64\n",
      " 3   km_driven      4227 non-null   float64\n",
      " 4   fuel           4182 non-null   object \n",
      " 5   seller_type    4026 non-null   object \n",
      " 6   transmission   4262 non-null   object \n",
      " 7   owner          4340 non-null   object \n",
      "dtypes: float64(2), int64(1), object(5)\n",
      "memory usage: 271.4+ KB\n"
     ]
    }
   ],
   "source": [
    "data.info()"
   ]
  },
  {
   "cell_type": "code",
   "execution_count": 8,
   "metadata": {},
   "outputs": [
    {
     "name": "stdout",
     "output_type": "stream",
     "text": [
      "in feature name the num of unique values is: 1491\n",
      "in feature year the num of unique values is: 27\n",
      "in feature selling_price the num of unique values is: 442\n",
      "in feature km_driven the num of unique values is: 758\n",
      "in feature fuel the num of unique values is: 5\n",
      "in feature seller_type the num of unique values is: 5\n",
      "in feature transmission the num of unique values is: 2\n",
      "in feature owner the num of unique values is: 9\n"
     ]
    }
   ],
   "source": [
    "#Lets check that all the features have a sufficient amount of data\n",
    "for feat in data:\n",
    "    print(f\"in feature {feat} the num of unique values is: {data[feat].nunique()}\")"
   ]
  },
  {
   "cell_type": "code",
   "execution_count": 9,
   "metadata": {},
   "outputs": [
    {
     "data": {
      "text/html": [
       "<style  type=\"text/css\" >\n",
       "    #T_5c56f4dc_db4f_11ea_b63c_34e6ad127590row0_col0 {\n",
       "            color:  black;\n",
       "        }    #T_5c56f4dc_db4f_11ea_b63c_34e6ad127590row0_col1 {\n",
       "            color:  black;\n",
       "        }    #T_5c56f4dc_db4f_11ea_b63c_34e6ad127590row0_col2 {\n",
       "            color:  red;\n",
       "        }    #T_5c56f4dc_db4f_11ea_b63c_34e6ad127590row0_col3 {\n",
       "            color:  red;\n",
       "        }    #T_5c56f4dc_db4f_11ea_b63c_34e6ad127590row0_col4 {\n",
       "            color:  red;\n",
       "        }    #T_5c56f4dc_db4f_11ea_b63c_34e6ad127590row1_col0 {\n",
       "            color:  black;\n",
       "        }    #T_5c56f4dc_db4f_11ea_b63c_34e6ad127590row1_col1 {\n",
       "            color:  black;\n",
       "        }    #T_5c56f4dc_db4f_11ea_b63c_34e6ad127590row1_col2 {\n",
       "            color:  red;\n",
       "        }    #T_5c56f4dc_db4f_11ea_b63c_34e6ad127590row1_col3 {\n",
       "            color:  red;\n",
       "        }    #T_5c56f4dc_db4f_11ea_b63c_34e6ad127590row1_col4 {\n",
       "            color:  red;\n",
       "        }    #T_5c56f4dc_db4f_11ea_b63c_34e6ad127590row2_col0 {\n",
       "            color:  black;\n",
       "        }    #T_5c56f4dc_db4f_11ea_b63c_34e6ad127590row2_col1 {\n",
       "            color:  black;\n",
       "        }    #T_5c56f4dc_db4f_11ea_b63c_34e6ad127590row2_col2 {\n",
       "            color:  red;\n",
       "        }    #T_5c56f4dc_db4f_11ea_b63c_34e6ad127590row2_col3 {\n",
       "            color:  red;\n",
       "        }    #T_5c56f4dc_db4f_11ea_b63c_34e6ad127590row2_col4 {\n",
       "            color:  red;\n",
       "        }    #T_5c56f4dc_db4f_11ea_b63c_34e6ad127590row3_col0 {\n",
       "            color:  black;\n",
       "        }    #T_5c56f4dc_db4f_11ea_b63c_34e6ad127590row3_col1 {\n",
       "            color:  black;\n",
       "        }    #T_5c56f4dc_db4f_11ea_b63c_34e6ad127590row3_col2 {\n",
       "            color:  black;\n",
       "        }    #T_5c56f4dc_db4f_11ea_b63c_34e6ad127590row3_col3 {\n",
       "            color:  red;\n",
       "        }    #T_5c56f4dc_db4f_11ea_b63c_34e6ad127590row3_col4 {\n",
       "            color:  red;\n",
       "        }</style><table id=\"T_5c56f4dc_db4f_11ea_b63c_34e6ad127590\" ><thead>    <tr>        <th class=\"blank level0\" ></th>        <th class=\"col_heading level0 col0\" >0</th>        <th class=\"col_heading level0 col1\" >1</th>        <th class=\"col_heading level0 col2\" >2</th>        <th class=\"col_heading level0 col3\" >3</th>        <th class=\"col_heading level0 col4\" >4</th>    </tr></thead><tbody>\n",
       "                <tr>\n",
       "                        <th id=\"T_5c56f4dc_db4f_11ea_b63c_34e6ad127590level0_row0\" class=\"row_heading level0 row0\" >fuel</th>\n",
       "                        <td id=\"T_5c56f4dc_db4f_11ea_b63c_34e6ad127590row0_col0\" class=\"data row0 col0\" >Diesel : 49.47%</td>\n",
       "                        <td id=\"T_5c56f4dc_db4f_11ea_b63c_34e6ad127590row0_col1\" class=\"data row0 col1\" >Petrol : 49.07%</td>\n",
       "                        <td id=\"T_5c56f4dc_db4f_11ea_b63c_34e6ad127590row0_col2\" class=\"data row0 col2\" >CNG : 0.88%</td>\n",
       "                        <td id=\"T_5c56f4dc_db4f_11ea_b63c_34e6ad127590row0_col3\" class=\"data row0 col3\" >LPG : 0.55%</td>\n",
       "                        <td id=\"T_5c56f4dc_db4f_11ea_b63c_34e6ad127590row0_col4\" class=\"data row0 col4\" >Electric : 0.02%</td>\n",
       "            </tr>\n",
       "            <tr>\n",
       "                        <th id=\"T_5c56f4dc_db4f_11ea_b63c_34e6ad127590level0_row1\" class=\"row_heading level0 row1\" >seller_type</th>\n",
       "                        <td id=\"T_5c56f4dc_db4f_11ea_b63c_34e6ad127590row1_col0\" class=\"data row1 col0\" >Individual : 73.67%</td>\n",
       "                        <td id=\"T_5c56f4dc_db4f_11ea_b63c_34e6ad127590row1_col1\" class=\"data row1 col1\" >Dealer : 24.02%</td>\n",
       "                        <td id=\"T_5c56f4dc_db4f_11ea_b63c_34e6ad127590row1_col2\" class=\"data row1 col2\" >Trustmark Dealer : 2.24%</td>\n",
       "                        <td id=\"T_5c56f4dc_db4f_11ea_b63c_34e6ad127590row1_col3\" class=\"data row1 col3\" >Indi : 0.05%</td>\n",
       "                        <td id=\"T_5c56f4dc_db4f_11ea_b63c_34e6ad127590row1_col4\" class=\"data row1 col4\" >Indi. : 0.02%</td>\n",
       "            </tr>\n",
       "            <tr>\n",
       "                        <th id=\"T_5c56f4dc_db4f_11ea_b63c_34e6ad127590level0_row2\" class=\"row_heading level0 row2\" >transmission</th>\n",
       "                        <td id=\"T_5c56f4dc_db4f_11ea_b63c_34e6ad127590row2_col0\" class=\"data row2 col0\" >Manual : 89.75%</td>\n",
       "                        <td id=\"T_5c56f4dc_db4f_11ea_b63c_34e6ad127590row2_col1\" class=\"data row2 col1\" >Automatic : 10.25%</td>\n",
       "                        <td id=\"T_5c56f4dc_db4f_11ea_b63c_34e6ad127590row2_col2\" class=\"data row2 col2\" >0.00</td>\n",
       "                        <td id=\"T_5c56f4dc_db4f_11ea_b63c_34e6ad127590row2_col3\" class=\"data row2 col3\" >0.00</td>\n",
       "                        <td id=\"T_5c56f4dc_db4f_11ea_b63c_34e6ad127590row2_col4\" class=\"data row2 col4\" >0.00</td>\n",
       "            </tr>\n",
       "            <tr>\n",
       "                        <th id=\"T_5c56f4dc_db4f_11ea_b63c_34e6ad127590level0_row3\" class=\"row_heading level0 row3\" >owner</th>\n",
       "                        <td id=\"T_5c56f4dc_db4f_11ea_b63c_34e6ad127590row3_col0\" class=\"data row3 col0\" >First Owner : 65.25%</td>\n",
       "                        <td id=\"T_5c56f4dc_db4f_11ea_b63c_34e6ad127590row3_col1\" class=\"data row3 col1\" >Second Owner : 25.48%</td>\n",
       "                        <td id=\"T_5c56f4dc_db4f_11ea_b63c_34e6ad127590row3_col2\" class=\"data row3 col2\" >Third Owner : 7.0%</td>\n",
       "                        <td id=\"T_5c56f4dc_db4f_11ea_b63c_34e6ad127590row3_col3\" class=\"data row3 col3\" >Fourth Owner : 0.83%</td>\n",
       "                        <td id=\"T_5c56f4dc_db4f_11ea_b63c_34e6ad127590row3_col4\" class=\"data row3 col4\" >Fifth Owner : 0.58%</td>\n",
       "            </tr>\n",
       "    </tbody></table>"
      ],
      "text/plain": [
       "<pandas.io.formats.style.Styler at 0x263ddfc3448>"
      ]
     },
     "execution_count": 9,
     "metadata": {},
     "output_type": "execute_result"
    }
   ],
   "source": [
    "NBcategorical.category_ratio(data,['fuel','seller_type','transmission','owner'])"
   ]
  },
  {
   "cell_type": "markdown",
   "metadata": {},
   "source": [
    "Insights:\n",
    "\n",
    "\n",
    "**statistics:**\n",
    "- `year` - has a long back tail - the mean is 2013 and median is 2014 however the min is 1992 - 22 years different.\\\n",
    "    we can also see that has 27 different values - increase my assessment for a long tail. \n",
    "- `km_driven` - has a high std - almost as the mean value.\n",
    "- `selling_price` - has a high std - **more** than the mean value. max value is very high - probably outliers\n",
    "\n",
    "**info:** \n",
    "- `owner` - would rather represent it as an int / float because it's describe the number of owners.\n",
    "- `transmission` - Imbalanced feature - have a category the is ~90% of the data\n",
    "\n",
    "**unique values:**\n",
    "- number of unique values  in all columns are as expected\n",
    "\n"
   ]
  },
  {
   "cell_type": "markdown",
   "metadata": {},
   "source": [
    "**lets first split the features by type to better understand the data**"
   ]
  },
  {
   "cell_type": "markdown",
   "metadata": {},
   "source": [
    "![cat](https://media.nature.com/full/nature-assets/ebd/journal/v8/n2/images/6400501f1.gif)"
   ]
  },
  {
   "cell_type": "code",
   "execution_count": 10,
   "metadata": {
    "scrolled": true
   },
   "outputs": [
    {
     "name": "stdout",
     "output_type": "stream",
     "text": [
      "\n",
      "\n",
      " Diesel      2069\n",
      "Petrol      2052\n",
      "CNG           37\n",
      "LPG           23\n",
      "Electric       1\n",
      "Name: fuel, dtype: int64\n",
      "\n",
      "\n",
      " Individual          2966\n",
      "Dealer               967\n",
      "Trustmark Dealer      90\n",
      "Indi                   2\n",
      "Indi.                  1\n",
      "Name: seller_type, dtype: int64\n",
      "\n",
      "\n",
      " Manual       3825\n",
      "Automatic     437\n",
      "Name: transmission, dtype: int64\n",
      "\n",
      "\n",
      " First Owner       2832\n",
      "Second Owner      1106\n",
      "Third Owner        304\n",
      "Fourth Owner        36\n",
      "Fifth Owner         25\n",
      "Test Drive Car      17\n",
      "Sixth Owner         11\n",
      "Seventh Owner        6\n",
      "Eighth Owner         3\n",
      "Name: owner, dtype: int64\n",
      "\n",
      "\n",
      " 2017    466\n",
      "2015    421\n",
      "2012    415\n",
      "2013    386\n",
      "2014    367\n",
      "2018    366\n",
      "2016    357\n",
      "2011    271\n",
      "2010    234\n",
      "2019    195\n",
      "2009    193\n",
      "2008    145\n",
      "2007    134\n",
      "2006    110\n",
      "2005     85\n",
      "2020     48\n",
      "2004     42\n",
      "2003     23\n",
      "2002     21\n",
      "2001     20\n",
      "1998     12\n",
      "2000     12\n",
      "1999     10\n",
      "1997      3\n",
      "1996      2\n",
      "1995      1\n",
      "1992      1\n",
      "Name: year, dtype: int64\n"
     ]
    }
   ],
   "source": [
    "for feat in ['fuel', 'seller_type', 'transmission', 'owner','year']:\n",
    "    print(\"\\n\\n\",data[feat].value_counts())"
   ]
  },
  {
   "cell_type": "markdown",
   "metadata": {},
   "source": [
    "- categorical nominal: `name` , `fuel`, `seller_type`, `transmission`,\n",
    "- categorical ordinal: `year`, `owner`\n",
    "- numerical discrete:\n",
    "- numerical continuous: `selling_price` , `km_driven`"
   ]
  },
  {
   "cell_type": "markdown",
   "metadata": {},
   "source": [
    "**Manipulate the data**"
   ]
  },
  {
   "cell_type": "code",
   "execution_count": 11,
   "metadata": {},
   "outputs": [],
   "source": [
    "# drop duplicate data\n",
    "data = data.drop_duplicates()"
   ]
  },
  {
   "cell_type": "code",
   "execution_count": 12,
   "metadata": {},
   "outputs": [],
   "source": [
    "numeric_col = list(data._get_numeric_data().columns)\n",
    "non_numeric_col = [col for col in data.columns if col not in numeric_col]"
   ]
  },
  {
   "cell_type": "code",
   "execution_count": 13,
   "metadata": {},
   "outputs": [
    {
     "name": "stdout",
     "output_type": "stream",
     "text": [
      "numeric_col:\n",
      " ['year', 'selling_price', 'km_driven']\n",
      "\n",
      "non_numeric_col:\n",
      " ['name', 'fuel', 'seller_type', 'transmission', 'owner']\n"
     ]
    }
   ],
   "source": [
    "print(\"numeric_col:\\n\",numeric_col)\n",
    "print(\"\\nnon_numeric_col:\\n\",non_numeric_col)"
   ]
  },
  {
   "cell_type": "markdown",
   "metadata": {},
   "source": [
    "#### As written above I would rather represent this feature as an int because it's describe the number of owners"
   ]
  },
  {
   "cell_type": "code",
   "execution_count": 14,
   "metadata": {},
   "outputs": [
    {
     "data": {
      "text/plain": [
       "First Owner       2300\n",
       "Second Owner       997\n",
       "Third Owner        290\n",
       "Fourth Owner        34\n",
       "Fifth Owner         25\n",
       "Test Drive Car      17\n",
       "Sixth Owner         11\n",
       "Seventh Owner        6\n",
       "Eighth Owner         3\n",
       "Name: owner, dtype: int64"
      ]
     },
     "execution_count": 14,
     "metadata": {},
     "output_type": "execute_result"
    }
   ],
   "source": [
    "data.owner.value_counts()"
   ]
  },
  {
   "cell_type": "markdown",
   "metadata": {},
   "source": [
    "**Test Drive Car** will be represented with 0."
   ]
  },
  {
   "cell_type": "code",
   "execution_count": 15,
   "metadata": {},
   "outputs": [
    {
     "data": {
      "text/plain": [
       "1.0    2300\n",
       "2.0     997\n",
       "3.0     290\n",
       "4.0      34\n",
       "5.0      25\n",
       "0.0      17\n",
       "6.0      11\n",
       "7.0       6\n",
       "8.0       3\n",
       "Name: owner, dtype: int64"
      ]
     },
     "execution_count": 15,
     "metadata": {},
     "output_type": "execute_result"
    }
   ],
   "source": [
    "data.owner.replace({'Test Drive Car':0,\"First Owner\": 1,'Second Owner':2,'Third Owner':3,'Fourth Owner':4,\n",
    "                    'Fifth Owner':5,'Sixth Owner':6,'Seventh Owner':7,'Eighth Owner':8}, inplace=True)\n",
    "data.owner = data.owner.astype(float)\n",
    "data.owner.value_counts()"
   ]
  },
  {
   "cell_type": "markdown",
   "metadata": {},
   "source": [
    "#### Lets explore `seller type` feature"
   ]
  },
  {
   "cell_type": "code",
   "execution_count": 16,
   "metadata": {},
   "outputs": [
    {
     "data": {
      "text/plain": [
       "Individual          2639\n",
       "Dealer               708\n",
       "Trustmark Dealer      22\n",
       "Indi                   2\n",
       "Indi.                  1\n",
       "Name: seller_type, dtype: int64"
      ]
     },
     "execution_count": 16,
     "metadata": {},
     "output_type": "execute_result"
    }
   ],
   "source": [
    "data.seller_type.value_counts()"
   ]
  },
  {
   "cell_type": "markdown",
   "metadata": {},
   "source": [
    "As we can see `Individual` is also represented as `Indi` and `Indi.` - I'll represent all values with `Individual`\n",
    "\n",
    "We can also see that  `Dealer` is represented as `Trustmark Dealer`. - I'll represent those values with `Dealer`"
   ]
  },
  {
   "cell_type": "code",
   "execution_count": 17,
   "metadata": {},
   "outputs": [],
   "source": [
    "data['seller_type'].replace(['Indi','Indi.'], 'Individual', inplace = True)\n",
    "data['seller_type'].replace(['Trustmark Dealer'], 'Dealer', inplace = True)"
   ]
  },
  {
   "cell_type": "code",
   "execution_count": 18,
   "metadata": {},
   "outputs": [
    {
     "data": {
      "text/plain": [
       "Individual    2642\n",
       "Dealer         730\n",
       "Name: seller_type, dtype: int64"
      ]
     },
     "execution_count": 18,
     "metadata": {},
     "output_type": "execute_result"
    }
   ],
   "source": [
    "data.seller_type.value_counts()"
   ]
  },
  {
   "cell_type": "markdown",
   "metadata": {},
   "source": [
    "**Plot the features**"
   ]
  },
  {
   "cell_type": "code",
   "execution_count": 19,
   "metadata": {
    "scrolled": true
   },
   "outputs": [
    {
     "data": {
      "image/png": "[encoded data removed]",
      "text/plain": [
       "<Figure size 576x288 with 1 Axes>"
      ]
     },
     "metadata": {},
     "output_type": "display_data"
    },
    {
     "data": {
      "image/png": "[encoded data removed]",
      "text/plain": [
       "<Figure size 576x288 with 1 Axes>"
      ]
     },
     "metadata": {},
     "output_type": "display_data"
    },
    {
     "data": {
      "image/png": "[encoded data removed]",
      "text/plain": [
       "<Figure size 576x288 with 1 Axes>"
      ]
     },
     "metadata": {},
     "output_type": "display_data"
    },
    {
     "data": {
      "image/png": "[encoded data removed]",
      "text/plain": [
       "<Figure size 576x288 with 1 Axes>"
      ]
     },
     "metadata": {},
     "output_type": "display_data"
    },
    {
     "data": {
      "image/png": "[encoded data removed]",
      "text/plain": [
       "<Figure size 576x288 with 1 Axes>"
      ]
     },
     "metadata": {},
     "output_type": "display_data"
    }
   ],
   "source": [
    "NBplot.count_plot(data,['fuel', 'seller_type', 'transmission', 'owner','year'])"
   ]
  },
  {
   "cell_type": "code",
   "execution_count": 20,
   "metadata": {
    "scrolled": true
   },
   "outputs": [
    {
     "data": {
      "image/png": "[encoded data removed]",
      "text/plain": [
       "<Figure size 648x432 with 1 Axes>"
      ]
     },
     "metadata": {},
     "output_type": "display_data"
    },
    {
     "data": {
      "image/png": "[encoded data removed]",
      "text/plain": [
       "<Figure size 648x432 with 1 Axes>"
      ]
     },
     "metadata": {},
     "output_type": "display_data"
    }
   ],
   "source": [
    "NBplot.distribution_plot(data,['selling_price', 'km_driven'])"
   ]
  },
  {
   "cell_type": "markdown",
   "metadata": {},
   "source": [
    "Plot Insight:\n",
    "\n",
    "- distribution plot:\n",
    "\n",
    "    - `selling price` - has a high concentration around ~250k and then a long head tail gives an exp distribution\n",
    "    - `Km driven` - has a high concentration around ~80K and then a long head tail gives an exp distribution\n",
    "\n",
    "- count plot:\n",
    "\n",
    "    - `year` - has a normal distribution with long back tail - as i predicted above.\n",
    "    - `owner` - The majority of owners are first/ second and some third. the rest have very little value count.\n",
    "    - `fuel` - most of the car are using petrol and diesel. need to check for value count on the rest of the features.\n",
    "    - `seller type` - Is very tilted to the individual.\n",
    "    - `transmission` - extremely tilted to the manual"
   ]
  },
  {
   "cell_type": "markdown",
   "metadata": {},
   "source": [
    "**Let check the correlation between the features**"
   ]
  },
  {
   "cell_type": "code",
   "execution_count": 21,
   "metadata": {},
   "outputs": [
    {
     "data": {
      "image/png": "[encoded data removed]",
      "text/plain": [
       "<Figure size 1440x432 with 2 Axes>"
      ]
     },
     "metadata": {},
     "output_type": "display_data"
    }
   ],
   "source": [
    "NBplot.plot_corr_heat_map(data)"
   ]
  },
  {
   "cell_type": "markdown",
   "metadata": {},
   "source": [
    "Insights:\n",
    "\n",
    "We can see a high negative correlation between:\n",
    "- `owner` and `year` \n",
    "- `Km_driven` and `year`\n",
    "\n",
    "And a high positive correlation between `selling_price` and `year`\n",
    "\n",
    "All as expected"
   ]
  },
  {
   "cell_type": "markdown",
   "metadata": {},
   "source": [
    "**split the data to train and test and process it before creating a model"
   ]
  },
  {
   "cell_type": "code",
   "execution_count": 22,
   "metadata": {},
   "outputs": [],
   "source": [
    "# split to target an featuers name list\n",
    "target_list = ['selling_price']\n",
    "features_list = list(data.columns)\n",
    "features_list.remove(target_list[0])"
   ]
  },
  {
   "cell_type": "code",
   "execution_count": 23,
   "metadata": {},
   "outputs": [],
   "source": [
    "# Split data base to train and test sets using sklearn\n",
    "X_train, X_test, y_train, y_test = train_test_split(data[features_list], data[target_list], test_size=0.20, \\\n",
    "                                                    random_state=42)\n",
    "\n",
    "START_X_train = len(X_train)"
   ]
  },
  {
   "cell_type": "markdown",
   "metadata": {},
   "source": [
    "<div class=\"alert alert-danger\"><b>Important</b>\n",
    "    \n",
    "I'll concat the feature and target matrix just for the preprocessing.\\\n",
    "when i'm done i'll separate them\n",
    "</div>"
   ]
  },
  {
   "cell_type": "code",
   "execution_count": 24,
   "metadata": {},
   "outputs": [],
   "source": [
    "X_train = pd.concat([X_train,y_train], axis=1)\n",
    "X_test = pd.concat([X_test,y_test], axis=1)"
   ]
  },
  {
   "cell_type": "code",
   "execution_count": 25,
   "metadata": {},
   "outputs": [
    {
     "name": "stdout",
     "output_type": "stream",
     "text": [
      "the length of featuers columns in X_train is 2946\n",
      "the length of featuers columns in X_test is 737\n",
      "the length of featuers columns in data base is 3683\n",
      "the delta between all is data sets and data base is : 0\n",
      "\n",
      "Number of columns in X_train is 8\n",
      "Number of columns in X_test is 8\n",
      "Number of columns in data base is 8\n"
     ]
    }
   ],
   "source": [
    "# Integrity checkto the split\n",
    "print(f\"the length of featuers columns in X_train is {len(X_train)}\")\n",
    "print(f\"the length of featuers columns in X_test is {len(X_test)}\")\n",
    "print(f\"the length of featuers columns in data base is {len(data)}\")\n",
    "print(f\"the delta between all is data sets and data base is :\",len(data)-len(X_train)-len(X_test))\n",
    "print(\"\")\n",
    "print(f\"Number of columns in X_train is {len(X_train.columns)}\")\n",
    "print(f\"Number of columns in X_test is {len(X_test.columns)}\")\n",
    "print(f\"Number of columns in data base is {len(data.columns)}\")"
   ]
  },
  {
   "cell_type": "markdown",
   "metadata": {},
   "source": [
    "### Take care of NA values"
   ]
  },
  {
   "cell_type": "markdown",
   "metadata": {},
   "source": [
    "**Continues features**\\\n",
    "**Train set**"
   ]
  },
  {
   "cell_type": "code",
   "execution_count": 26,
   "metadata": {},
   "outputs": [
    {
     "data": {
      "text/plain": [
       "selling_price    103\n",
       "km_driven         86\n",
       "dtype: int64"
      ]
     },
     "execution_count": 26,
     "metadata": {},
     "output_type": "execute_result"
    }
   ],
   "source": [
    "X_train[['selling_price', 'km_driven']].isnull().sum()"
   ]
  },
  {
   "cell_type": "code",
   "execution_count": 27,
   "metadata": {},
   "outputs": [
    {
     "data": {
      "text/plain": [
       "selling_price    350000.0\n",
       "km_driven         61657.0\n",
       "dtype: float64"
      ]
     },
     "execution_count": 27,
     "metadata": {},
     "output_type": "execute_result"
    }
   ],
   "source": [
    "X_train[['selling_price','km_driven']].median()"
   ]
  },
  {
   "cell_type": "code",
   "execution_count": 28,
   "metadata": {},
   "outputs": [
    {
     "data": {
      "text/plain": [
       "selling_price    472880.582835\n",
       "km_driven         69367.011538\n",
       "dtype: float64"
      ]
     },
     "execution_count": 28,
     "metadata": {},
     "output_type": "execute_result"
    }
   ],
   "source": [
    "X_train[['selling_price','km_driven']].mean()"
   ]
  },
  {
   "cell_type": "code",
   "execution_count": 29,
   "metadata": {},
   "outputs": [
    {
     "data": {
      "image/png": "[encoded data removed]",
      "text/plain": [
       "<Figure size 648x432 with 1 Axes>"
      ]
     },
     "metadata": {},
     "output_type": "display_data"
    },
    {
     "data": {
      "image/png": "[encoded data removed]",
      "text/plain": [
       "<Figure size 648x432 with 1 Axes>"
      ]
     },
     "metadata": {},
     "output_type": "display_data"
    }
   ],
   "source": [
    "NBplot.distribution_plot(data,['selling_price', 'km_driven'])"
   ]
  },
  {
   "cell_type": "markdown",
   "metadata": {},
   "source": [
    "we can see that both features with missing values have exp distribution.\\\n",
    "Also the mean is very close to the meadian but a bit higher because of the long head tail.\\\n",
    "Because of the above I'll chose to fill the Na with the median for `Km_driven` and `selling price`."
   ]
  },
  {
   "cell_type": "code",
   "execution_count": 30,
   "metadata": {},
   "outputs": [],
   "source": [
    "X_train.selling_price.fillna(X_train.selling_price.median(), inplace=True)\n",
    "X_train.km_driven.fillna(X_train.km_driven.median(), inplace=True)"
   ]
  },
  {
   "cell_type": "code",
   "execution_count": 31,
   "metadata": {},
   "outputs": [
    {
     "data": {
      "text/plain": [
       "selling_price    0\n",
       "km_driven        0\n",
       "dtype: int64"
      ]
     },
     "execution_count": 31,
     "metadata": {},
     "output_type": "execute_result"
    }
   ],
   "source": [
    "X_train[['selling_price', 'km_driven']].isnull().sum()"
   ]
  },
  {
   "cell_type": "markdown",
   "metadata": {},
   "source": [
    "#### Test set"
   ]
  },
  {
   "cell_type": "code",
   "execution_count": 32,
   "metadata": {},
   "outputs": [
    {
     "data": {
      "text/plain": [
       "selling_price    33\n",
       "km_driven        27\n",
       "dtype: int64"
      ]
     },
     "execution_count": 32,
     "metadata": {},
     "output_type": "execute_result"
    }
   ],
   "source": [
    "X_test[['selling_price', 'km_driven']].isnull().sum()"
   ]
  },
  {
   "cell_type": "markdown",
   "metadata": {},
   "source": [
    "I will fill the `km_driven` and `selling_price` Na values with the median of the **train set** because this is my sample"
   ]
  },
  {
   "cell_type": "code",
   "execution_count": 33,
   "metadata": {},
   "outputs": [],
   "source": [
    "X_test.selling_price.fillna(X_train.selling_price.median(), inplace=True)\n",
    "X_test.km_driven.fillna(X_train.km_driven.median(), inplace=True)"
   ]
  },
  {
   "cell_type": "code",
   "execution_count": 34,
   "metadata": {},
   "outputs": [
    {
     "data": {
      "text/plain": [
       "selling_price    0\n",
       "km_driven        0\n",
       "dtype: int64"
      ]
     },
     "execution_count": 34,
     "metadata": {},
     "output_type": "execute_result"
    }
   ],
   "source": [
    "X_test[['selling_price', 'km_driven']].isnull().sum()"
   ]
  },
  {
   "cell_type": "markdown",
   "metadata": {},
   "source": [
    "**Categorical features**\\\n",
    "**Train set**"
   ]
  },
  {
   "cell_type": "code",
   "execution_count": 35,
   "metadata": {},
   "outputs": [],
   "source": [
    "categorical = non_numeric_col+ ['owner','year' ]"
   ]
  },
  {
   "cell_type": "code",
   "execution_count": 36,
   "metadata": {},
   "outputs": [
    {
     "data": {
      "text/plain": [
       "name              0\n",
       "fuel            114\n",
       "seller_type     253\n",
       "transmission     62\n",
       "owner             0\n",
       "owner             0\n",
       "year              0\n",
       "dtype: int64"
      ]
     },
     "execution_count": 36,
     "metadata": {},
     "output_type": "execute_result"
    }
   ],
   "source": [
    "X_train[categorical].isnull().sum()"
   ]
  },
  {
   "cell_type": "markdown",
   "metadata": {},
   "source": [
    "we can see that `fuel`, `seller type` and `transmission` has missing values.\\\n",
    "Lets check the distribution of the categories for every feature"
   ]
  },
  {
   "cell_type": "code",
   "execution_count": 37,
   "metadata": {},
   "outputs": [
    {
     "data": {
      "text/html": [
       "<style  type=\"text/css\" >\n",
       "    #T_63cbd16e_db4f_11ea_bbcb_34e6ad127590row0_col0 {\n",
       "            color:  black;\n",
       "        }    #T_63cbd16e_db4f_11ea_bbcb_34e6ad127590row0_col1 {\n",
       "            color:  black;\n",
       "        }    #T_63cbd16e_db4f_11ea_bbcb_34e6ad127590row0_col2 {\n",
       "            color:  red;\n",
       "        }    #T_63cbd16e_db4f_11ea_bbcb_34e6ad127590row0_col3 {\n",
       "            color:  red;\n",
       "        }    #T_63cbd16e_db4f_11ea_bbcb_34e6ad127590row0_col4 {\n",
       "            color:  red;\n",
       "        }    #T_63cbd16e_db4f_11ea_bbcb_34e6ad127590row1_col0 {\n",
       "            color:  black;\n",
       "        }    #T_63cbd16e_db4f_11ea_bbcb_34e6ad127590row1_col1 {\n",
       "            color:  black;\n",
       "        }    #T_63cbd16e_db4f_11ea_bbcb_34e6ad127590row1_col2 {\n",
       "            color:  red;\n",
       "        }    #T_63cbd16e_db4f_11ea_bbcb_34e6ad127590row1_col3 {\n",
       "            color:  red;\n",
       "        }    #T_63cbd16e_db4f_11ea_bbcb_34e6ad127590row1_col4 {\n",
       "            color:  red;\n",
       "        }    #T_63cbd16e_db4f_11ea_bbcb_34e6ad127590row2_col0 {\n",
       "            color:  red;\n",
       "        }    #T_63cbd16e_db4f_11ea_bbcb_34e6ad127590row2_col1 {\n",
       "            color:  black;\n",
       "        }    #T_63cbd16e_db4f_11ea_bbcb_34e6ad127590row2_col2 {\n",
       "            color:  red;\n",
       "        }    #T_63cbd16e_db4f_11ea_bbcb_34e6ad127590row2_col3 {\n",
       "            color:  red;\n",
       "        }    #T_63cbd16e_db4f_11ea_bbcb_34e6ad127590row2_col4 {\n",
       "            color:  red;\n",
       "        }</style><table id=\"T_63cbd16e_db4f_11ea_bbcb_34e6ad127590\" ><thead>    <tr>        <th class=\"blank level0\" ></th>        <th class=\"col_heading level0 col0\" >0</th>        <th class=\"col_heading level0 col1\" >1</th>        <th class=\"col_heading level0 col2\" >2</th>        <th class=\"col_heading level0 col3\" >3</th>        <th class=\"col_heading level0 col4\" >4</th>    </tr></thead><tbody>\n",
       "                <tr>\n",
       "                        <th id=\"T_63cbd16e_db4f_11ea_bbcb_34e6ad127590level0_row0\" class=\"row_heading level0 row0\" >fuel</th>\n",
       "                        <td id=\"T_63cbd16e_db4f_11ea_bbcb_34e6ad127590row0_col0\" class=\"data row0 col0\" >Diesel : 49.75%</td>\n",
       "                        <td id=\"T_63cbd16e_db4f_11ea_bbcb_34e6ad127590row0_col1\" class=\"data row0 col1\" >Petrol : 48.66%</td>\n",
       "                        <td id=\"T_63cbd16e_db4f_11ea_bbcb_34e6ad127590row0_col2\" class=\"data row0 col2\" >CNG : 0.88%</td>\n",
       "                        <td id=\"T_63cbd16e_db4f_11ea_bbcb_34e6ad127590row0_col3\" class=\"data row0 col3\" >LPG : 0.67%</td>\n",
       "                        <td id=\"T_63cbd16e_db4f_11ea_bbcb_34e6ad127590row0_col4\" class=\"data row0 col4\" >Electric : 0.04%</td>\n",
       "            </tr>\n",
       "            <tr>\n",
       "                        <th id=\"T_63cbd16e_db4f_11ea_bbcb_34e6ad127590level0_row1\" class=\"row_heading level0 row1\" >seller_type</th>\n",
       "                        <td id=\"T_63cbd16e_db4f_11ea_bbcb_34e6ad127590row1_col0\" class=\"data row1 col0\" >Individual : 78.17%</td>\n",
       "                        <td id=\"T_63cbd16e_db4f_11ea_bbcb_34e6ad127590row1_col1\" class=\"data row1 col1\" >Dealer : 21.83%</td>\n",
       "                        <td id=\"T_63cbd16e_db4f_11ea_bbcb_34e6ad127590row1_col2\" class=\"data row1 col2\" >0.00</td>\n",
       "                        <td id=\"T_63cbd16e_db4f_11ea_bbcb_34e6ad127590row1_col3\" class=\"data row1 col3\" >0.00</td>\n",
       "                        <td id=\"T_63cbd16e_db4f_11ea_bbcb_34e6ad127590row1_col4\" class=\"data row1 col4\" >0.00</td>\n",
       "            </tr>\n",
       "            <tr>\n",
       "                        <th id=\"T_63cbd16e_db4f_11ea_bbcb_34e6ad127590level0_row2\" class=\"row_heading level0 row2\" >transmission</th>\n",
       "                        <td id=\"T_63cbd16e_db4f_11ea_bbcb_34e6ad127590row2_col0\" class=\"data row2 col0\" >Manual : 91.23%</td>\n",
       "                        <td id=\"T_63cbd16e_db4f_11ea_bbcb_34e6ad127590row2_col1\" class=\"data row2 col1\" >Automatic : 8.77%</td>\n",
       "                        <td id=\"T_63cbd16e_db4f_11ea_bbcb_34e6ad127590row2_col2\" class=\"data row2 col2\" >0.00</td>\n",
       "                        <td id=\"T_63cbd16e_db4f_11ea_bbcb_34e6ad127590row2_col3\" class=\"data row2 col3\" >0.00</td>\n",
       "                        <td id=\"T_63cbd16e_db4f_11ea_bbcb_34e6ad127590row2_col4\" class=\"data row2 col4\" >0.00</td>\n",
       "            </tr>\n",
       "    </tbody></table>"
      ],
      "text/plain": [
       "<pandas.io.formats.style.Styler at 0x263de701548>"
      ]
     },
     "execution_count": 37,
     "metadata": {},
     "output_type": "execute_result"
    }
   ],
   "source": [
    "NBcategorical.category_ratio(X_train,['fuel','seller_type','transmission'])"
   ]
  },
  {
   "cell_type": "markdown",
   "metadata": {},
   "source": [
    "based on the distribution most of the car are using petrol and diesel.\\\n",
    "I'll fill the missing value by the ratio of the categories to not affect the distribution "
   ]
  },
  {
   "cell_type": "markdown",
   "metadata": {},
   "source": [
    "**Ratio of features before filling missing values**"
   ]
  },
  {
   "cell_type": "code",
   "execution_count": 38,
   "metadata": {},
   "outputs": [
    {
     "data": {
      "text/html": [
       "<div>\n",
       "<style scoped>\n",
       "    .dataframe tbody tr th:only-of-type {\n",
       "        vertical-align: middle;\n",
       "    }\n",
       "\n",
       "    .dataframe tbody tr th {\n",
       "        vertical-align: top;\n",
       "    }\n",
       "\n",
       "    .dataframe thead th {\n",
       "        text-align: right;\n",
       "    }\n",
       "</style>\n",
       "<table border=\"1\" class=\"dataframe\">\n",
       "  <thead>\n",
       "    <tr style=\"text-align: right;\">\n",
       "      <th></th>\n",
       "      <th>fuel</th>\n",
       "    </tr>\n",
       "  </thead>\n",
       "  <tbody>\n",
       "    <tr>\n",
       "      <th>Diesel</th>\n",
       "      <td>0.497528</td>\n",
       "    </tr>\n",
       "    <tr>\n",
       "      <th>Petrol</th>\n",
       "      <td>0.486582</td>\n",
       "    </tr>\n",
       "    <tr>\n",
       "      <th>CNG</th>\n",
       "      <td>0.008828</td>\n",
       "    </tr>\n",
       "    <tr>\n",
       "      <th>LPG</th>\n",
       "      <td>0.006709</td>\n",
       "    </tr>\n",
       "    <tr>\n",
       "      <th>Electric</th>\n",
       "      <td>0.000353</td>\n",
       "    </tr>\n",
       "  </tbody>\n",
       "</table>\n",
       "</div>"
      ],
      "text/plain": [
       "              fuel\n",
       "Diesel    0.497528\n",
       "Petrol    0.486582\n",
       "CNG       0.008828\n",
       "LPG       0.006709\n",
       "Electric  0.000353"
      ]
     },
     "execution_count": 38,
     "metadata": {},
     "output_type": "execute_result"
    }
   ],
   "source": [
    "# Not including missing values\n",
    "pd.DataFrame(X_train['fuel'].value_counts(normalize=True, dropna=True))"
   ]
  },
  {
   "cell_type": "code",
   "execution_count": 39,
   "metadata": {},
   "outputs": [
    {
     "data": {
      "text/html": [
       "<div>\n",
       "<style scoped>\n",
       "    .dataframe tbody tr th:only-of-type {\n",
       "        vertical-align: middle;\n",
       "    }\n",
       "\n",
       "    .dataframe tbody tr th {\n",
       "        vertical-align: top;\n",
       "    }\n",
       "\n",
       "    .dataframe thead th {\n",
       "        text-align: right;\n",
       "    }\n",
       "</style>\n",
       "<table border=\"1\" class=\"dataframe\">\n",
       "  <thead>\n",
       "    <tr style=\"text-align: right;\">\n",
       "      <th></th>\n",
       "      <th>fuel</th>\n",
       "    </tr>\n",
       "  </thead>\n",
       "  <tbody>\n",
       "    <tr>\n",
       "      <th>Diesel</th>\n",
       "      <td>0.478276</td>\n",
       "    </tr>\n",
       "    <tr>\n",
       "      <th>Petrol</th>\n",
       "      <td>0.467753</td>\n",
       "    </tr>\n",
       "    <tr>\n",
       "      <th>NaN</th>\n",
       "      <td>0.038697</td>\n",
       "    </tr>\n",
       "    <tr>\n",
       "      <th>CNG</th>\n",
       "      <td>0.008486</td>\n",
       "    </tr>\n",
       "    <tr>\n",
       "      <th>LPG</th>\n",
       "      <td>0.006449</td>\n",
       "    </tr>\n",
       "    <tr>\n",
       "      <th>Electric</th>\n",
       "      <td>0.000339</td>\n",
       "    </tr>\n",
       "  </tbody>\n",
       "</table>\n",
       "</div>"
      ],
      "text/plain": [
       "              fuel\n",
       "Diesel    0.478276\n",
       "Petrol    0.467753\n",
       "NaN       0.038697\n",
       "CNG       0.008486\n",
       "LPG       0.006449\n",
       "Electric  0.000339"
      ]
     },
     "execution_count": 39,
     "metadata": {},
     "output_type": "execute_result"
    }
   ],
   "source": [
    "# Including missing values\n",
    "pd.DataFrame(X_train['fuel'].value_counts(normalize=True, dropna=False))"
   ]
  },
  {
   "cell_type": "code",
   "execution_count": 40,
   "metadata": {},
   "outputs": [],
   "source": [
    "# fill missing values be the ratio of current categories\n",
    "NBcategorical.fill_na_by_ratio(X_train,'fuel')"
   ]
  },
  {
   "cell_type": "code",
   "execution_count": 41,
   "metadata": {},
   "outputs": [
    {
     "data": {
      "text/html": [
       "<div>\n",
       "<style scoped>\n",
       "    .dataframe tbody tr th:only-of-type {\n",
       "        vertical-align: middle;\n",
       "    }\n",
       "\n",
       "    .dataframe tbody tr th {\n",
       "        vertical-align: top;\n",
       "    }\n",
       "\n",
       "    .dataframe thead th {\n",
       "        text-align: right;\n",
       "    }\n",
       "</style>\n",
       "<table border=\"1\" class=\"dataframe\">\n",
       "  <thead>\n",
       "    <tr style=\"text-align: right;\">\n",
       "      <th></th>\n",
       "      <th>fuel</th>\n",
       "    </tr>\n",
       "  </thead>\n",
       "  <tbody>\n",
       "    <tr>\n",
       "      <th>Diesel</th>\n",
       "      <td>0.498642</td>\n",
       "    </tr>\n",
       "    <tr>\n",
       "      <th>Petrol</th>\n",
       "      <td>0.484386</td>\n",
       "    </tr>\n",
       "    <tr>\n",
       "      <th>CNG</th>\n",
       "      <td>0.009504</td>\n",
       "    </tr>\n",
       "    <tr>\n",
       "      <th>LPG</th>\n",
       "      <td>0.007128</td>\n",
       "    </tr>\n",
       "    <tr>\n",
       "      <th>Electric</th>\n",
       "      <td>0.000339</td>\n",
       "    </tr>\n",
       "  </tbody>\n",
       "</table>\n",
       "</div>"
      ],
      "text/plain": [
       "              fuel\n",
       "Diesel    0.498642\n",
       "Petrol    0.484386\n",
       "CNG       0.009504\n",
       "LPG       0.007128\n",
       "Electric  0.000339"
      ]
     },
     "execution_count": 41,
     "metadata": {},
     "output_type": "execute_result"
    }
   ],
   "source": [
    "# Not including missing values\n",
    "pd.DataFrame(X_train['fuel'].value_counts(normalize=True, dropna=True))"
   ]
  },
  {
   "cell_type": "code",
   "execution_count": 42,
   "metadata": {},
   "outputs": [
    {
     "data": {
      "text/html": [
       "<div>\n",
       "<style scoped>\n",
       "    .dataframe tbody tr th:only-of-type {\n",
       "        vertical-align: middle;\n",
       "    }\n",
       "\n",
       "    .dataframe tbody tr th {\n",
       "        vertical-align: top;\n",
       "    }\n",
       "\n",
       "    .dataframe thead th {\n",
       "        text-align: right;\n",
       "    }\n",
       "</style>\n",
       "<table border=\"1\" class=\"dataframe\">\n",
       "  <thead>\n",
       "    <tr style=\"text-align: right;\">\n",
       "      <th></th>\n",
       "      <th>fuel</th>\n",
       "    </tr>\n",
       "  </thead>\n",
       "  <tbody>\n",
       "    <tr>\n",
       "      <th>Diesel</th>\n",
       "      <td>0.498642</td>\n",
       "    </tr>\n",
       "    <tr>\n",
       "      <th>Petrol</th>\n",
       "      <td>0.484386</td>\n",
       "    </tr>\n",
       "    <tr>\n",
       "      <th>CNG</th>\n",
       "      <td>0.009504</td>\n",
       "    </tr>\n",
       "    <tr>\n",
       "      <th>LPG</th>\n",
       "      <td>0.007128</td>\n",
       "    </tr>\n",
       "    <tr>\n",
       "      <th>Electric</th>\n",
       "      <td>0.000339</td>\n",
       "    </tr>\n",
       "  </tbody>\n",
       "</table>\n",
       "</div>"
      ],
      "text/plain": [
       "              fuel\n",
       "Diesel    0.498642\n",
       "Petrol    0.484386\n",
       "CNG       0.009504\n",
       "LPG       0.007128\n",
       "Electric  0.000339"
      ]
     },
     "execution_count": 42,
     "metadata": {},
     "output_type": "execute_result"
    }
   ],
   "source": [
    "# Including missing values\n",
    "pd.DataFrame(X_train['fuel'].value_counts(normalize=True, dropna=False))"
   ]
  },
  {
   "cell_type": "code",
   "execution_count": 43,
   "metadata": {},
   "outputs": [],
   "source": [
    "# fill missing values be the ratio of current categories\n",
    "NBcategorical.fill_na_by_ratio(X_train,'seller_type')\n",
    "NBcategorical.fill_na_by_ratio(X_train,'transmission')"
   ]
  },
  {
   "cell_type": "code",
   "execution_count": 44,
   "metadata": {},
   "outputs": [
    {
     "data": {
      "text/html": [
       "<div>\n",
       "<style scoped>\n",
       "    .dataframe tbody tr th:only-of-type {\n",
       "        vertical-align: middle;\n",
       "    }\n",
       "\n",
       "    .dataframe tbody tr th {\n",
       "        vertical-align: top;\n",
       "    }\n",
       "\n",
       "    .dataframe thead th {\n",
       "        text-align: right;\n",
       "    }\n",
       "</style>\n",
       "<table border=\"1\" class=\"dataframe\">\n",
       "  <thead>\n",
       "    <tr style=\"text-align: right;\">\n",
       "      <th></th>\n",
       "      <th>seller_type</th>\n",
       "    </tr>\n",
       "  </thead>\n",
       "  <tbody>\n",
       "    <tr>\n",
       "      <th>Individual</th>\n",
       "      <td>0.78072</td>\n",
       "    </tr>\n",
       "    <tr>\n",
       "      <th>Dealer</th>\n",
       "      <td>0.21928</td>\n",
       "    </tr>\n",
       "  </tbody>\n",
       "</table>\n",
       "</div>"
      ],
      "text/plain": [
       "            seller_type\n",
       "Individual      0.78072\n",
       "Dealer          0.21928"
      ]
     },
     "metadata": {},
     "output_type": "display_data"
    },
    {
     "data": {
      "text/html": [
       "<div>\n",
       "<style scoped>\n",
       "    .dataframe tbody tr th:only-of-type {\n",
       "        vertical-align: middle;\n",
       "    }\n",
       "\n",
       "    .dataframe tbody tr th {\n",
       "        vertical-align: top;\n",
       "    }\n",
       "\n",
       "    .dataframe thead th {\n",
       "        text-align: right;\n",
       "    }\n",
       "</style>\n",
       "<table border=\"1\" class=\"dataframe\">\n",
       "  <thead>\n",
       "    <tr style=\"text-align: right;\">\n",
       "      <th></th>\n",
       "      <th>transmission</th>\n",
       "    </tr>\n",
       "  </thead>\n",
       "  <tbody>\n",
       "    <tr>\n",
       "      <th>Manual</th>\n",
       "      <td>0.912424</td>\n",
       "    </tr>\n",
       "    <tr>\n",
       "      <th>Automatic</th>\n",
       "      <td>0.087576</td>\n",
       "    </tr>\n",
       "  </tbody>\n",
       "</table>\n",
       "</div>"
      ],
      "text/plain": [
       "           transmission\n",
       "Manual         0.912424\n",
       "Automatic      0.087576"
      ]
     },
     "metadata": {},
     "output_type": "display_data"
    }
   ],
   "source": [
    "# Check that there is no missing values\n",
    "display(pd.DataFrame(X_train['seller_type'].value_counts(normalize=True, dropna=False)))\n",
    "display(pd.DataFrame(X_train['transmission'].value_counts(normalize=True, dropna=False)))"
   ]
  },
  {
   "cell_type": "code",
   "execution_count": 45,
   "metadata": {},
   "outputs": [
    {
     "data": {
      "text/plain": [
       "name            0\n",
       "fuel            0\n",
       "seller_type     0\n",
       "transmission    0\n",
       "owner           0\n",
       "owner           0\n",
       "year            0\n",
       "dtype: int64"
      ]
     },
     "execution_count": 45,
     "metadata": {},
     "output_type": "execute_result"
    }
   ],
   "source": [
    "X_train[categorical].isnull().sum()"
   ]
  },
  {
   "cell_type": "markdown",
   "metadata": {},
   "source": [
    "# needs to change the fill_na_by_ratio method.\n",
    "will recive two dataframe - (train, columnname,test=None)\\\n",
    "if test:\n",
    "\n",
    "     fill na in tset by train\n",
    "\n",
    "else:\n",
    "\n",
    "    fill na in train by train"
   ]
  },
  {
   "cell_type": "markdown",
   "metadata": {},
   "source": [
    "### Take care of outliers\n",
    "**Continues features**\\\n",
    "**Train set**"
   ]
  },
  {
   "cell_type": "code",
   "execution_count": 46,
   "metadata": {
    "scrolled": true
   },
   "outputs": [
    {
     "data": {
      "image/png": "[encoded data removed]",
      "text/plain": [
       "<Figure size 648x432 with 1 Axes>"
      ]
     },
     "metadata": {},
     "output_type": "display_data"
    },
    {
     "data": {
      "image/png": "[encoded data removed]",
      "text/plain": [
       "<Figure size 648x432 with 1 Axes>"
      ]
     },
     "metadata": {},
     "output_type": "display_data"
    }
   ],
   "source": [
    "NBplot.distribution_plot(data,['selling_price', 'km_driven'])"
   ]
  },
  {
   "cell_type": "code",
   "execution_count": 47,
   "metadata": {
    "scrolled": true
   },
   "outputs": [
    {
     "data": {
      "image/png": "[encoded data removed]",
      "text/plain": [
       "<Figure size 1080x288 with 1 Axes>"
      ]
     },
     "metadata": {},
     "output_type": "display_data"
    },
    {
     "data": {
      "image/png": "[encoded data removed]",
      "text/plain": [
       "<Figure size 1080x288 with 1 Axes>"
      ]
     },
     "metadata": {},
     "output_type": "display_data"
    }
   ],
   "source": [
    "for col in ['selling_price','km_driven']:\n",
    "    plt.figure(figsize=(15,4))\n",
    "    g = sns.boxplot(x=X_train[col])\n",
    "    g.set(title=\" distribution by box plot\")\n",
    "    plt.show()"
   ]
  },
  {
   "cell_type": "markdown",
   "metadata": {},
   "source": [
    "Insights from the plot above:\n",
    "- `selling price` - has 2 points after 8M\n",
    "- `km driven` - has 2 points after 400K"
   ]
  },
  {
   "cell_type": "markdown",
   "metadata": {},
   "source": [
    "### The \"Hammer\" method\n",
    "#### remove outliers by trim head and tail based on std\n",
    "3 times of standard deviation as my main data and out of this range would be the outlier.\\\n",
    "Normal distribution would guarantee that the main data have about 99.73% of information.\n",
    "not all data has Normal distribution thus will use it carefully - especially on bottom border and will drop only 3+ std\n",
    "\n",
    "![Image of Yaktocat](https://i.stack.imgur.com/AxYue.png)"
   ]
  },
  {
   "cell_type": "code",
   "execution_count": 48,
   "metadata": {},
   "outputs": [
    {
     "name": "stdout",
     "output_type": "stream",
     "text": [
      "\n",
      "for feature selling_price\n",
      "Do you wish to drop 18 rows (0.61% of the database)? [y/n]y\n",
      "\n",
      "for feature km_driven\n",
      "Do you wish to drop 16 rows (0.55% of the database)? [y/n]y\n"
     ]
    }
   ],
   "source": [
    "for col in ['selling_price','km_driven']:\n",
    "    print(f\"\\nfor feature {col}\")\n",
    "    NBcontinuous.remove_outliers_by_boundaries(X_train,col,0.001, 0.995)"
   ]
  },
  {
   "cell_type": "markdown",
   "metadata": {},
   "source": [
    "### The \"Tweezers\" method\n",
    "\n",
    "Will plot the box distribution of every feature and will hand-pick the boundaries for every feature.\\\n",
    "Will do it for top and bottom boundaries"
   ]
  },
  {
   "cell_type": "code",
   "execution_count": 49,
   "metadata": {},
   "outputs": [
    {
     "data": {
      "image/png": "[encoded data removed]",
      "text/plain": [
       "<Figure size 1080x288 with 1 Axes>"
      ]
     },
     "metadata": {},
     "output_type": "display_data"
    },
    {
     "data": {
      "image/png": "[encoded data removed]",
      "text/plain": [
       "<Figure size 1080x288 with 1 Axes>"
      ]
     },
     "metadata": {},
     "output_type": "display_data"
    }
   ],
   "source": [
    "for col in ['selling_price','km_driven']:\n",
    "    plt.figure(figsize=(15,4))\n",
    "    g = sns.boxplot(x=X_train[col])\n",
    "    g.set(title=\" distribution by box plot\")\n",
    "    plt.show()"
   ]
  },
  {
   "cell_type": "code",
   "execution_count": 50,
   "metadata": {},
   "outputs": [],
   "source": [
    "filter_dict_up = {\n",
    "    \"selling_price\": 3000000,\n",
    "    \"km_driven\": 240000\n",
    "}\n",
    "\n",
    "# Doesn't make sense to use a bottom boundary - will do it to just to show the useage\n",
    "filter_dict_down = {    \n",
    "    \"selling_price\": 25000,\n",
    "    \"km_driven\": 25000\n",
    "}"
   ]
  },
  {
   "cell_type": "code",
   "execution_count": 51,
   "metadata": {},
   "outputs": [
    {
     "name": "stdout",
     "output_type": "stream",
     "text": [
      "\n",
      "Outliers above:\n",
      "selling_price: 4\n",
      "km_driven: 2\n",
      "\n",
      "Outliers under:\n",
      "selling_price: 0\n",
      "km_driven: 395\n",
      "\\nBy removing all 401 rows we will lose 13.77 % of the data\n"
     ]
    }
   ],
   "source": [
    "# check how many outliers we have for every boundary and make the adjustment\n",
    "NBcontinuous.get_num_outliers_by_value(X_train,filter_dict_up,filter_dict_down)"
   ]
  },
  {
   "cell_type": "code",
   "execution_count": 52,
   "metadata": {},
   "outputs": [],
   "source": [
    "filter_dict_up = {\n",
    "    \"selling_price\": 3000000\n",
    "}\n",
    "\n",
    "# Doesn't make sense to use a bottom boundary - will do it to just to show the useage\n",
    "filter_dict_down = {    \n",
    "}"
   ]
  },
  {
   "cell_type": "code",
   "execution_count": 53,
   "metadata": {
    "scrolled": true
   },
   "outputs": [
    {
     "name": "stdout",
     "output_type": "stream",
     "text": [
      "\n",
      "Outliers above:\n",
      "selling_price: 4\n",
      "\\nBy removing all 4 rows we will lose 0.14 % of the data\n"
     ]
    }
   ],
   "source": [
    "# let's check again\n",
    "NBcontinuous.get_num_outliers_by_value(X_train,filter_dict_up)"
   ]
  },
  {
   "cell_type": "code",
   "execution_count": 54,
   "metadata": {},
   "outputs": [
    {
     "name": "stdout",
     "output_type": "stream",
     "text": [
      "\\nShape before removing outliers: (2912, 8)\n",
      "\\nshape after removing outliers: (2908, 8)\n",
      "\\nDroped 4 rows that are 0.14 % of the database\n"
     ]
    }
   ],
   "source": [
    "# drop the outlires\n",
    "NBcontinuous.remove_outliers_by_value(X_train,filter_dict_up)"
   ]
  },
  {
   "cell_type": "markdown",
   "metadata": {},
   "source": [
    "**categorical features**\\\n",
    "**Train set**"
   ]
  },
  {
   "cell_type": "code",
   "execution_count": 55,
   "metadata": {
    "scrolled": true
   },
   "outputs": [
    {
     "name": "stdout",
     "output_type": "stream",
     "text": [
      "\n",
      "\n",
      " Diesel      1440\n",
      "Petrol      1418\n",
      "CNG           28\n",
      "LPG           21\n",
      "Electric       1\n",
      "Name: fuel, dtype: int64\n",
      "\n",
      "\n",
      " Individual    2275\n",
      "Dealer         633\n",
      "Name: seller_type, dtype: int64\n",
      "\n",
      "\n",
      " Manual       2669\n",
      "Automatic     239\n",
      "Name: transmission, dtype: int64\n",
      "\n",
      "\n",
      " 1.0    1809\n",
      "2.0     798\n",
      "3.0     231\n",
      "4.0      21\n",
      "5.0      20\n",
      "0.0      15\n",
      "6.0       8\n",
      "7.0       4\n",
      "8.0       2\n",
      "Name: owner, dtype: int64\n",
      "\n",
      "\n",
      " 2017    290\n",
      "2012    279\n",
      "2015    269\n",
      "2014    266\n",
      "2013    249\n",
      "2018    231\n",
      "2016    219\n",
      "2011    204\n",
      "2010    174\n",
      "2009    135\n",
      "2019    125\n",
      "2008    112\n",
      "2007     96\n",
      "2006     79\n",
      "2005     44\n",
      "2020     34\n",
      "2004     29\n",
      "2003     16\n",
      "2002     14\n",
      "2001     11\n",
      "1999      9\n",
      "2000      9\n",
      "1998      9\n",
      "1997      3\n",
      "1995      1\n",
      "1992      1\n",
      "Name: year, dtype: int64\n"
     ]
    }
   ],
   "source": [
    "for col in ['fuel', 'seller_type', 'transmission', 'owner','year']:\n",
    "    print(\"\\n\\n\",X_train[col].value_counts())"
   ]
  },
  {
   "cell_type": "code",
   "execution_count": 56,
   "metadata": {},
   "outputs": [
    {
     "data": {
      "image/png": "[encoded data removed]",
      "text/plain": [
       "<Figure size 576x288 with 1 Axes>"
      ]
     },
     "metadata": {},
     "output_type": "display_data"
    },
    {
     "data": {
      "image/png": "[encoded data removed]",
      "text/plain": [
       "<Figure size 576x288 with 1 Axes>"
      ]
     },
     "metadata": {},
     "output_type": "display_data"
    },
    {
     "data": {
      "image/png": "[encoded data removed]",
      "text/plain": [
       "<Figure size 576x288 with 1 Axes>"
      ]
     },
     "metadata": {},
     "output_type": "display_data"
    },
    {
     "data": {
      "image/png": "[encoded data removed]",
      "text/plain": [
       "<Figure size 576x288 with 1 Axes>"
      ]
     },
     "metadata": {},
     "output_type": "display_data"
    },
    {
     "data": {
      "image/png": "[encoded data removed]",
      "text/plain": [
       "<Figure size 576x288 with 1 Axes>"
      ]
     },
     "metadata": {},
     "output_type": "display_data"
    }
   ],
   "source": [
    "NBplot.count_plot(X_train,['fuel', 'seller_type', 'transmission', 'owner','year'])"
   ]
  },
  {
   "cell_type": "markdown",
   "metadata": {},
   "source": [
    "I'll check for all features that contains less than 1% of the data and combine them under 'other'"
   ]
  },
  {
   "cell_type": "code",
   "execution_count": 57,
   "metadata": {},
   "outputs": [
    {
     "data": {
      "text/plain": [
       "Diesel      0.495186\n",
       "Petrol      0.487620\n",
       "CNG         0.009629\n",
       "LPG         0.007221\n",
       "Electric    0.000344\n",
       "Name: fuel, dtype: float64"
      ]
     },
     "execution_count": 57,
     "metadata": {},
     "output_type": "execute_result"
    }
   ],
   "source": [
    "X_train[\"fuel\"].value_counts(normalize=True)"
   ]
  },
  {
   "cell_type": "markdown",
   "metadata": {},
   "source": [
    "- We can see that `CNG` `LPG` , `Electric` will be combined\n",
    "- We will save the name of categories that were combined in the `combined_values_fuel` list so that we will be able to conduct the same action on the test data set."
   ]
  },
  {
   "cell_type": "code",
   "execution_count": 58,
   "metadata": {},
   "outputs": [],
   "source": [
    "combined_values_fuel = NBcategorical.combine_categories(X_train, 'fuel',category_name='other' )"
   ]
  },
  {
   "cell_type": "code",
   "execution_count": 59,
   "metadata": {},
   "outputs": [
    {
     "data": {
      "text/plain": [
       "Diesel    0.495186\n",
       "Petrol    0.487620\n",
       "other     0.017194\n",
       "Name: fuel, dtype: float64"
      ]
     },
     "execution_count": 59,
     "metadata": {},
     "output_type": "execute_result"
    }
   ],
   "source": [
    "# let's check the results\n",
    "X_train[\"fuel\"].value_counts(normalize=True)"
   ]
  },
  {
   "cell_type": "markdown",
   "metadata": {},
   "source": [
    "As we can see `CNG` `LPG` , `Electric` were combined under `other`"
   ]
  },
  {
   "cell_type": "code",
   "execution_count": 60,
   "metadata": {},
   "outputs": [
    {
     "data": {
      "text/plain": [
       "1.0    0.622077\n",
       "2.0    0.274415\n",
       "3.0    0.079436\n",
       "4.0    0.007221\n",
       "5.0    0.006878\n",
       "0.0    0.005158\n",
       "6.0    0.002751\n",
       "7.0    0.001376\n",
       "8.0    0.000688\n",
       "Name: owner, dtype: float64"
      ]
     },
     "execution_count": 60,
     "metadata": {},
     "output_type": "execute_result"
    }
   ],
   "source": [
    "X_train[\"owner\"].value_counts(normalize=True)"
   ]
  },
  {
   "cell_type": "code",
   "execution_count": 61,
   "metadata": {},
   "outputs": [],
   "source": [
    "combined_values_owner = NBcategorical.combine_categories(X_train, 'owner',category_name=0 )"
   ]
  },
  {
   "cell_type": "code",
   "execution_count": 62,
   "metadata": {},
   "outputs": [
    {
     "data": {
      "text/plain": [
       "1.0    0.622077\n",
       "2.0    0.274415\n",
       "3.0    0.079436\n",
       "0.0    0.024072\n",
       "Name: owner, dtype: float64"
      ]
     },
     "execution_count": 62,
     "metadata": {},
     "output_type": "execute_result"
    }
   ],
   "source": [
    "X_train[\"owner\"].value_counts(normalize=True)"
   ]
  },
  {
   "cell_type": "code",
   "execution_count": 63,
   "metadata": {
    "scrolled": true
   },
   "outputs": [
    {
     "data": {
      "image/png": "[encoded data removed]",
      "text/plain": [
       "<Figure size 576x288 with 1 Axes>"
      ]
     },
     "metadata": {},
     "output_type": "display_data"
    },
    {
     "data": {
      "image/png": "[encoded data removed]",
      "text/plain": [
       "<Figure size 576x288 with 1 Axes>"
      ]
     },
     "metadata": {},
     "output_type": "display_data"
    }
   ],
   "source": [
    "NBplot.count_plot(X_train,['fuel','owner'])"
   ]
  },
  {
   "cell_type": "markdown",
   "metadata": {},
   "source": [
    "### Test set\n",
    "to create the same changes on the test set i will need to:\n",
    "1. gather all features from `fuel` to \"others\" `owner` to 0 as i did to the train set.\n",
    "2. Make sure that I don't have any new categories in X_test.fuel that do not exist in X_train.fuel"
   ]
  },
  {
   "cell_type": "code",
   "execution_count": 64,
   "metadata": {},
   "outputs": [],
   "source": [
    "X_test2 = X_test.copy()"
   ]
  },
  {
   "cell_type": "code",
   "execution_count": 65,
   "metadata": {},
   "outputs": [],
   "source": [
    "X_test2[\"fuel\"].replace(combined_values_fuel, \"other\", inplace=True)"
   ]
  },
  {
   "cell_type": "code",
   "execution_count": 66,
   "metadata": {},
   "outputs": [],
   "source": [
    "X_test2[\"owner\"].replace(combined_values_owner, 0, inplace=True)"
   ]
  },
  {
   "cell_type": "code",
   "execution_count": 67,
   "metadata": {},
   "outputs": [
    {
     "name": "stdout",
     "output_type": "stream",
     "text": [
      "values existing only in the first data-set {nan}\n",
      "values existing only in the second data-set set()\n"
     ]
    }
   ],
   "source": [
    "NBcategorical.categories_not_in_common(X_train,X_test2,'fuel')"
   ]
  },
  {
   "cell_type": "code",
   "execution_count": 68,
   "metadata": {},
   "outputs": [
    {
     "name": "stdout",
     "output_type": "stream",
     "text": [
      "values existing only in the first data-set set()\n",
      "values existing only in the second data-set set()\n"
     ]
    }
   ],
   "source": [
    "NBcategorical.categories_not_in_common(X_train,X_test2,'owner')"
   ]
  },
  {
   "cell_type": "markdown",
   "metadata": {},
   "source": [
    "# Extra Features in package"
   ]
  },
  {
   "cell_type": "markdown",
   "metadata": {},
   "source": [
    "### Remove category in feature "
   ]
  },
  {
   "cell_type": "code",
   "execution_count": 69,
   "metadata": {},
   "outputs": [
    {
     "data": {
      "text/plain": [
       "Diesel      1762\n",
       "Petrol      1705\n",
       "CNG           35\n",
       "LPG           22\n",
       "Electric       1\n",
       "Name: fuel, dtype: int64"
      ]
     },
     "execution_count": 69,
     "metadata": {},
     "output_type": "execute_result"
    }
   ],
   "source": [
    "data.fuel.value_counts()"
   ]
  },
  {
   "cell_type": "markdown",
   "metadata": {},
   "source": [
    "We can see that `Electric` have minor effect on the model and will be impossible to predict it.\\\n",
    "Lets drop this option from the database"
   ]
  },
  {
   "cell_type": "code",
   "execution_count": 70,
   "metadata": {},
   "outputs": [
    {
     "name": "stdout",
     "output_type": "stream",
     "text": [
      "Using remove_categories will result in deletion of 1\\nWhich is 0.03 % of the database.\\nDo you wish to continue? [y/n]y\n",
      "the new database shape is(3682, 8)\n"
     ]
    }
   ],
   "source": [
    "NBcategorical.remove_categories(data,'fuel',['Electric'])"
   ]
  },
  {
   "cell_type": "markdown",
   "metadata": {},
   "source": [
    "### Fill missing values in data-time column \n",
    "to do so lets load a database that contains a date-time column"
   ]
  },
  {
   "cell_type": "code",
   "execution_count": 71,
   "metadata": {},
   "outputs": [
    {
     "name": "stderr",
     "output_type": "stream",
     "text": [
      "C:\\Users\\user\\anaconda3\\lib\\site-packages\\IPython\\core\\interactiveshell.py:3063: DtypeWarning: Columns (94) have mixed types.Specify dtype option on import or set low_memory=False.\n",
      "  interactivity=interactivity, compiler=compiler, result=result)\n"
     ]
    }
   ],
   "source": [
    "listinf_df = pd.DataFrame(pd.read_csv('listings.csv')['host_since'])"
   ]
  },
  {
   "cell_type": "code",
   "execution_count": 72,
   "metadata": {},
   "outputs": [
    {
     "data": {
      "text/html": [
       "<div>\n",
       "<style scoped>\n",
       "    .dataframe tbody tr th:only-of-type {\n",
       "        vertical-align: middle;\n",
       "    }\n",
       "\n",
       "    .dataframe tbody tr th {\n",
       "        vertical-align: top;\n",
       "    }\n",
       "\n",
       "    .dataframe thead th {\n",
       "        text-align: right;\n",
       "    }\n",
       "</style>\n",
       "<table border=\"1\" class=\"dataframe\">\n",
       "  <thead>\n",
       "    <tr style=\"text-align: right;\">\n",
       "      <th></th>\n",
       "      <th>host_since</th>\n",
       "    </tr>\n",
       "  </thead>\n",
       "  <tbody>\n",
       "    <tr>\n",
       "      <th>16615</th>\n",
       "      <td>2018-08-06</td>\n",
       "    </tr>\n",
       "    <tr>\n",
       "      <th>3690</th>\n",
       "      <td>2014-06-25</td>\n",
       "    </tr>\n",
       "    <tr>\n",
       "      <th>10496</th>\n",
       "      <td>2014-06-15</td>\n",
       "    </tr>\n",
       "  </tbody>\n",
       "</table>\n",
       "</div>"
      ],
      "text/plain": [
       "       host_since\n",
       "16615  2018-08-06\n",
       "3690   2014-06-25\n",
       "10496  2014-06-15"
      ]
     },
     "execution_count": 72,
     "metadata": {},
     "output_type": "execute_result"
    }
   ],
   "source": [
    "listinf_df.sample(3)"
   ]
  },
  {
   "cell_type": "code",
   "execution_count": 73,
   "metadata": {
    "scrolled": true
   },
   "outputs": [
    {
     "data": {
      "text/plain": [
       "14"
      ]
     },
     "execution_count": 73,
     "metadata": {},
     "output_type": "execute_result"
    }
   ],
   "source": [
    "listinf_df.host_since.isnull().sum()"
   ]
  },
  {
   "cell_type": "code",
   "execution_count": 74,
   "metadata": {
    "scrolled": true
   },
   "outputs": [
    {
     "name": "stdout",
     "output_type": "stream",
     "text": [
      "<class 'pandas.core.frame.DataFrame'>\n",
      "RangeIndex: 19619 entries, 0 to 19618\n",
      "Data columns (total 1 columns):\n",
      " #   Column      Non-Null Count  Dtype \n",
      "---  ------      --------------  ----- \n",
      " 0   host_since  19605 non-null  object\n",
      "dtypes: object(1)\n",
      "memory usage: 153.4+ KB\n"
     ]
    }
   ],
   "source": [
    "listinf_df.info()"
   ]
  },
  {
   "cell_type": "markdown",
   "metadata": {},
   "source": [
    "As we can see the feature is an object type and not Date-Time.\\\n",
    "Lets change the type of the feature and than use the fill_na_timedate method"
   ]
  },
  {
   "cell_type": "code",
   "execution_count": 75,
   "metadata": {},
   "outputs": [],
   "source": [
    "listinf_df['host_since'] = pd.to_datetime(listinf_df['host_since'])"
   ]
  },
  {
   "cell_type": "code",
   "execution_count": 76,
   "metadata": {},
   "outputs": [],
   "source": [
    "NBcontinuous.fill_na_timedate(listinf_df,'host_since')"
   ]
  },
  {
   "cell_type": "code",
   "execution_count": 77,
   "metadata": {},
   "outputs": [
    {
     "data": {
      "text/plain": [
       "0"
      ]
     },
     "execution_count": 77,
     "metadata": {},
     "output_type": "execute_result"
    }
   ],
   "source": [
    "listinf_df.host_since.isnull().sum()"
   ]
  }
 ],
 "metadata": {
  "kernelspec": {
   "display_name": "Python 3",
   "language": "python",
   "name": "python3"
  },
  "language_info": {
   "codemirror_mode": {
    "name": "ipython",
    "version": 3
   },
   "file_extension": ".py",
   "mimetype": "text/x-python",
   "name": "python",
   "nbconvert_exporter": "python",
   "pygments_lexer": "ipython3",
   "version": "3.7.6"
  }
 },
 "nbformat": 4,
 "nbformat_minor": 4
}
